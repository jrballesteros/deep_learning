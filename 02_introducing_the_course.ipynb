{
 "cells": [
  {
   "cell_type": "markdown",
   "metadata": {
    "slideshow": {
     "slide_type": "slide"
    }
   },
   "source": [
    "# Deep Learning\n",
    "__\"Métodos Avanzados de IA 2\"__\n",
    "\n",
    "__How it works before why it works__"
   ]
  },
  {
   "cell_type": "markdown",
   "metadata": {
    "slideshow": {
     "slide_type": "slide"
    }
   },
   "source": [
    "- __Docente : John R. Ballesteros__\n",
    "   - Profesor Asociado Escuela de Ingenieria Civil, UNC\n",
    "   - Ingeniero Geólogo\n",
    "   - MSc Geoinformatics, International Institute for Geoinformation Science and Earth Information, ITC; The Netherlands\n",
    "   - CEO at Navione, www.navione.co\n",
    "   - jballes@unal.edu.co\n",
    "\n",
    "- https://github.com/jrballesteros/deep_learning"
   ]
  },
  {
   "cell_type": "markdown",
   "metadata": {
    "ExecuteTime": {
     "end_time": "2020-11-18T16:58:03.457158Z",
     "start_time": "2020-11-18T16:58:03.444183Z"
    },
    "slideshow": {
     "slide_type": "slide"
    }
   },
   "source": [
    "* Elvis David Martinez Simanca\n",
    "* Correo: edmartinezs@unal.edu.co\n",
    "* Celular: 3024087890\n",
    "* Estudiante de Maestría en Ingeniería Análitica\n",
    "* UNIVERSIDAD NACIONAL DE COLOMBIA"
   ]
  },
  {
   "cell_type": "markdown",
   "metadata": {
    "ExecuteTime": {
     "end_time": "2020-10-07T01:29:22.583067Z",
     "start_time": "2020-10-07T01:29:22.542503Z"
    },
    "slideshow": {
     "slide_type": "slide"
    }
   },
   "source": [
    "## Objetivo General\n",
    "    \n",
    "Introducir al participante en el conocimiento de las redes neuronales, brindando un conocimiento de las herramientas de última generación para la clasificacion, la detección, la segmentacion y la generación sintética de imágenes.\n"
   ]
  },
  {
   "cell_type": "markdown",
   "metadata": {
    "slideshow": {
     "slide_type": "subslide"
    }
   },
   "source": [
    "### __Objetivos específicos__\n",
    "\n",
    "* Conocer las generalidades, tipos de redes neuronales y sus aplicaciones.\n",
    "* Utilizar transfer learning y aprender las bases de la anotacion de imagenes como base para el entrenamiento de ___DNN___.\n",
    "* Desarrollar algoritmos usando redes neuronales para llevar a cabo clasificacion, deteccion y segmentacion de imagenes. \n",
    "* Manejar algunas librerias para imagenes, procesamiento y visualizacion de datos.\n",
    "* Aprender el manejo básico de frameworks de ai en PHYTON."
   ]
  },
  {
   "cell_type": "markdown",
   "metadata": {
    "ExecuteTime": {
     "end_time": "2020-10-08T01:02:49.404177Z",
     "start_time": "2020-10-08T01:02:49.198792Z"
    },
    "slideshow": {
     "slide_type": "slide"
    }
   },
   "source": [
    "### El método\n",
    "\n",
    "![title](img/HowToLearnNN.jpg)\n",
    "                                                    https://www.gse.harvard.edu/faculty/david-perkins"
   ]
  },
  {
   "cell_type": "markdown",
   "metadata": {
    "ExecuteTime": {
     "end_time": "2020-10-07T01:45:04.017801Z",
     "start_time": "2020-10-07T01:45:03.966636Z"
    },
    "slideshow": {
     "slide_type": "slide"
    }
   },
   "source": [
    "## Contenido"
   ]
  },
  {
   "cell_type": "markdown",
   "metadata": {
    "ExecuteTime": {
     "end_time": "2020-10-07T01:47:13.618897Z",
     "start_time": "2020-10-07T01:47:13.590972Z"
    },
    "slideshow": {
     "slide_type": "slide"
    }
   },
   "source": [
    "0. Jupyter Notebook Tutorial: The new research writtin' platform\n",
    "\n",
    "1. Image Processing Using PIL\n",
    "\n",
    "2. Course Introduction\n",
    "\n",
    "3. Image Classification: a study case\n",
    "3.1 Follow up 1: Image processing\n",
    "3.2 worshop 1: Image classification"
   ]
  },
  {
   "cell_type": "markdown",
   "metadata": {
    "ExecuteTime": {
     "end_time": "2020-10-07T02:04:06.377803Z",
     "start_time": "2020-10-07T02:04:06.311632Z"
    },
    "slideshow": {
     "slide_type": "slide"
    }
   },
   "source": [
    "4. Lecture 1: About Neural Networks, history, perceptron and multi layer deep learning, applications\n",
    "\n",
    "5. Lecture 2. Image Labellin' Common datasets and labelling platforms\n",
    "6. Image Multi-Classification: a study case\n",
    "6.1 worshop 2: Image multi-classification\n",
    "\n",
    "Follow up 2"
   ]
  },
  {
   "cell_type": "markdown",
   "metadata": {
    "slideshow": {
     "slide_type": "slide"
    }
   },
   "source": [
    "7. worshop 3: Image segmentation: camvid study case. Image segmentation (Autoencoders: UNET)\n",
    "8. Lecture 3 CNN\n",
    "8.1 Lecture 3. Second Part. Metrics\n",
    "\n",
    "Expo-poster\n",
    "Follow up 3"
   ]
  },
  {
   "cell_type": "markdown",
   "metadata": {
    "slideshow": {
     "slide_type": "slide"
    }
   },
   "source": [
    "9. Worshop 4. Image Generation (GANs), Super resolution, Google satellite to maps\n",
    "10. Lecture 4: Image generation and image translation using gans\n",
    "Follow up 4"
   ]
  },
  {
   "cell_type": "markdown",
   "metadata": {
    "ExecuteTime": {
     "end_time": "2020-10-07T02:11:33.790363Z",
     "start_time": "2020-10-07T02:11:33.779395Z"
    },
    "slideshow": {
     "slide_type": "slide"
    }
   },
   "source": [
    "11. Collaborative Filtering: neural networks for tabular data (optional)\n",
    "11.1 worshop 5: Recomendations systems"
   ]
  },
  {
   "cell_type": "markdown",
   "metadata": {
    "slideshow": {
     "slide_type": "slide"
    }
   },
   "source": [
    "## Framework & Technology\n",
    "\n",
    "- Jupyter Notebook\n",
    "- Google Drive and Google Collaboratory = Collab\n",
    "- Fastai Library\n",
    "- Keras\n"
   ]
  },
  {
   "cell_type": "markdown",
   "metadata": {
    "slideshow": {
     "slide_type": "slide"
    }
   },
   "source": [
    "### Grading\n",
    "\n",
    "- 40% worshops\n",
    "- 20% followups & 10% test\n",
    "- 30% expo & poster (interesting topic: technical and business diligence)\n"
   ]
  },
  {
   "cell_type": "markdown",
   "metadata": {
    "slideshow": {
     "slide_type": "slide"
    }
   },
   "source": [
    "___References___\n",
    "\n",
    "* Fastai Course V1, V2\n",
    "* Andrew NG Deep Learning Course"
   ]
  },
  {
   "cell_type": "markdown",
   "metadata": {
    "slideshow": {
     "slide_type": "slide"
    }
   },
   "source": [
    "![title](img/KerasFastai.png)"
   ]
  },
  {
   "cell_type": "markdown",
   "metadata": {
    "ExecuteTime": {
     "end_time": "2020-11-19T01:29:40.861912Z",
     "start_time": "2020-11-19T01:29:39.538189Z"
    },
    "slideshow": {
     "slide_type": "slide"
    }
   },
   "source": [
    "__Supuestos del Deep Learning__\n",
    "\n",
    "- DL is a black box: not really, visualize gradients and activations\n",
    "\n",
    "- It needs huge ammount of data: Use data augmentation and transfer learning\n",
    "\n",
    "- It's only for PhDs: It's based on sums and multiplications, try Fastai and Keras\n",
    "\n",
    "- DL is images: Not longer true!, collaborative filtering, sentiment analysis, and NLP are in its core nowadays.\n",
    "\n",
    "- Needs a huge GPU: Only in specific research projects.\n",
    "\n",
    "- It's not really AI: who cares! Do you really want to build a brain?"
   ]
  },
  {
   "cell_type": "markdown",
   "metadata": {
    "ExecuteTime": {
     "end_time": "2020-11-19T01:40:34.956794Z",
     "start_time": "2020-11-19T01:40:34.879226Z"
    },
    "slideshow": {
     "slide_type": "slide"
    }
   },
   "source": [
    "__What can I do after this course?__\n",
    "\n",
    "Create a world class model to:\n",
    "  \n",
    "  - Classify species, beisball vs cricket pictures\n",
    "  - Identify movie reviews and recomend some, create an app to follow a company goodwill\n",
    "  - Build a chatbot to sort user requirements in a company or predict stores sales\n",
    "  - Make a facial recognition system\n",
    "  - Create a visual inspection software for quality assurance\n",
    "  - And many more..."
   ]
  },
  {
   "cell_type": "code",
   "execution_count": null,
   "metadata": {},
   "outputs": [],
   "source": []
  }
 ],
 "metadata": {
  "celltoolbar": "Slideshow",
  "kernelspec": {
   "display_name": "Python 3",
   "language": "python",
   "name": "python3"
  },
  "language_info": {
   "codemirror_mode": {
    "name": "ipython",
    "version": 3
   },
   "file_extension": ".py",
   "mimetype": "text/x-python",
   "name": "python",
   "nbconvert_exporter": "python",
   "pygments_lexer": "ipython3",
   "version": "3.7.4"
  },
  "latex_envs": {
   "LaTeX_envs_menu_present": true,
   "autoclose": false,
   "autocomplete": true,
   "bibliofile": "biblio.bib",
   "cite_by": "apalike",
   "current_citInitial": 1,
   "eqLabelWithNumbers": true,
   "eqNumInitial": 1,
   "hotkeys": {
    "equation": "Ctrl-E",
    "itemize": "Ctrl-I"
   },
   "labels_anchors": false,
   "latex_user_defs": false,
   "report_style_numbering": false,
   "user_envs_cfg": false
  },
  "toc": {
   "base_numbering": 1,
   "nav_menu": {},
   "number_sections": true,
   "sideBar": true,
   "skip_h1_title": false,
   "title_cell": "Table of Contents",
   "title_sidebar": "Contents",
   "toc_cell": false,
   "toc_position": {},
   "toc_section_display": true,
   "toc_window_display": false
  },
  "varInspector": {
   "cols": {
    "lenName": 16,
    "lenType": 16,
    "lenVar": 40
   },
   "kernels_config": {
    "python": {
     "delete_cmd_postfix": "",
     "delete_cmd_prefix": "del ",
     "library": "var_list.py",
     "varRefreshCmd": "print(var_dic_list())"
    },
    "r": {
     "delete_cmd_postfix": ") ",
     "delete_cmd_prefix": "rm(",
     "library": "var_list.r",
     "varRefreshCmd": "cat(var_dic_list()) "
    }
   },
   "types_to_exclude": [
    "module",
    "function",
    "builtin_function_or_method",
    "instance",
    "_Feature"
   ],
   "window_display": false
  }
 },
 "nbformat": 4,
 "nbformat_minor": 4
}
