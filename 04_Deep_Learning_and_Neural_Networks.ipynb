{
 "cells": [
  {
   "cell_type": "markdown",
   "metadata": {
    "slideshow": {
     "slide_type": "notes"
    }
   },
   "source": []
  },
  {
   "cell_type": "markdown",
   "metadata": {
    "ExecuteTime": {
     "end_time": "2020-08-27T02:04:10.057127Z",
     "start_time": "2020-08-27T02:04:10.021042Z"
    },
    "slideshow": {
     "slide_type": "slide"
    }
   },
   "source": [
    " # Deep Learning"
   ]
  },
  {
   "cell_type": "markdown",
   "metadata": {
    "ExecuteTime": {
     "end_time": "2020-10-07T21:16:15.336774Z",
     "start_time": "2020-10-07T21:16:15.287236Z"
    },
    "slideshow": {
     "slide_type": "slide"
    }
   },
   "source": [
    "![title](img/DL_definition.png)\n"
   ]
  },
  {
   "cell_type": "markdown",
   "metadata": {
    "ExecuteTime": {
     "end_time": "2020-10-07T21:19:00.856869Z",
     "start_time": "2020-10-07T21:19:00.771918Z"
    },
    "slideshow": {
     "slide_type": "slide"
    }
   },
   "source": [
    "![title](img/AI_ML_DL.png)"
   ]
  },
  {
   "cell_type": "markdown",
   "metadata": {
    "ExecuteTime": {
     "end_time": "2020-10-07T23:25:58.686094Z",
     "start_time": "2020-10-07T23:25:58.634394Z"
    }
   },
   "source": [
    "![image.png](img/DL_Vs_ML.png)"
   ]
  },
  {
   "cell_type": "markdown",
   "metadata": {
    "slideshow": {
     "slide_type": "slide"
    }
   },
   "source": [
    "![title](img/DontNeed.jpg)\n",
    "\n",
    "*Fast AI* 2020"
   ]
  },
  {
   "cell_type": "markdown",
   "metadata": {
    "slideshow": {
     "slide_type": "slide"
    }
   },
   "source": [
    "## Aplicaciones del Deep Learning \n",
    "\n",
    "![title](img/DLTheBestApproach.png)\n",
    "\n",
    "*Fast AI* 2020"
   ]
  },
  {
   "cell_type": "markdown",
   "metadata": {
    "ExecuteTime": {
     "end_time": "2020-10-08T01:20:51.060601Z",
     "start_time": "2020-10-08T01:20:50.952694Z"
    },
    "slideshow": {
     "slide_type": "slide"
    }
   },
   "source": [
    "![image.png](img/NNHistory.png)"
   ]
  },
  {
   "cell_type": "markdown",
   "metadata": {
    "slideshow": {
     "slide_type": "slide"
    }
   },
   "source": [
    "![image.png](img/perceptron.png)"
   ]
  },
  {
   "cell_type": "markdown",
   "metadata": {
    "slideshow": {
     "slide_type": "slide"
    }
   },
   "source": [
    "Es un algoritmo genérico para ___clasificación o predicción___ pero entrenado con diferente data y acomodado dependiendo de cada lógica y numero de clases, 2 clases, 4 clases, etc.!\n",
    "\n",
    "![image.png](img/The_algorithm.png)"
   ]
  },
  {
   "cell_type": "markdown",
   "metadata": {
    "slideshow": {
     "slide_type": "slide"
    }
   },
   "source": [
    "### Regression Vs Classification and Learning\n",
    "\n",
    "Este algoritmo genérico permite calcular una variable a partir de otras sin cambiar ni guardar el estado, esto es, siempre la entrada de los mismos valores dará como resultado el mismo valor, es decir no aprenden.\n",
    "\n",
    "![image.png](img/Regresion_Vs_Classification.png)"
   ]
  },
  {
   "cell_type": "markdown",
   "metadata": {
    "slideshow": {
     "slide_type": "slide"
    }
   },
   "source": [
    "![image.png](img/Learn.png)"
   ]
  },
  {
   "cell_type": "markdown",
   "metadata": {
    "slideshow": {
     "slide_type": "slide"
    }
   },
   "source": [
    "![image.png](img/Feed_forward.png)"
   ]
  },
  {
   "cell_type": "markdown",
   "metadata": {
    "ExecuteTime": {
     "end_time": "2020-10-07T23:31:26.850235Z",
     "start_time": "2020-10-07T23:31:26.756777Z"
    },
    "slideshow": {
     "slide_type": "slide"
    }
   },
   "source": [
    "![image.png](img/Back_propagation.png)"
   ]
  },
  {
   "cell_type": "markdown",
   "metadata": {
    "slideshow": {
     "slide_type": "slide"
    }
   },
   "source": [
    "### Deep Neural Network: DNN Vs Perceptron\n",
    "\n",
    "Una red neuronal profunda tiene un mayor numero de capas para que pueda aprender mayor numero de interacción entre variables.\n",
    "\n",
    "Su función es clasificación (producción de dos (binaria) o mas clases) o regresión (obtención de un valor predictivo)\n",
    "\n",
    "Sus entradas pueden ser cualquier cosa y su salida puede ser cualquier cosa (tabla  to tabla, valor a valor, imagen a imagen)"
   ]
  },
  {
   "cell_type": "markdown",
   "metadata": {
    "slideshow": {
     "slide_type": "slide"
    }
   },
   "source": [
    "## Structure of a DNN\n",
    "\n",
    "![image.png](img/Structure_DNN.png)"
   ]
  },
  {
   "cell_type": "markdown",
   "metadata": {
    "slideshow": {
     "slide_type": "slide"
    }
   },
   "source": [
    "## Calculus in a DNN\n",
    "\n",
    "![image.png](img/Calculus_DNN.png)"
   ]
  },
  {
   "cell_type": "markdown",
   "metadata": {
    "slideshow": {
     "slide_type": "slide"
    }
   },
   "source": [
    "\n",
    "## The Activation Function\n",
    "\n",
    "Tambien llamadas Transfer Functions, su función es incluir non linearity to the NN dado que la mayoría de los fenómenos no son lineales, there are three types:\n",
    "\n",
    "Rectified Linear Unit (ReLu): es la más popular, Cuya ecuación es simple: \n",
    "∅(𝑥)=max⁡(0, 𝑥), esta función reemplazó las también usadas Sigmoid: ∅(𝑥)=1/1+𝑒^(−𝑥) y la Tangente hiperbólica: ∅(𝑥)=tanh⁡(𝑥). But the derivatives of these two goes to zero and that´s not good, this doesn´t happend to ReLu. \n",
    "\n",
    "Softmax: Es siempre usada for the final output in classification problems, asegura que la suma de todas las salidas sea igual a 1, o 100% de las probabilidades.  Esto es cada salida es una probabilidad de pertenecer a una clase.  Cuya ecuación es: ∅(𝑥)=𝑒^𝑥/∑𝑒^𝑥 \n",
    "\n",
    "Linear: Is essentially no an activation function, it´s used for linear regression or 2 class-classification also knwon as binary classification. Cuya ecuación es: ∅(𝑥)=𝑥"
   ]
  },
  {
   "cell_type": "markdown",
   "metadata": {
    "slideshow": {
     "slide_type": "slide"
    }
   },
   "source": [
    "## Training a NN = Finding the Model = solving the equations = optimizing the Weights!\n",
    "\n",
    "When Weight are assigned to every calculation step of the NN, the error can be calculated, so it is possible to make an error function and change the Weights ! \n",
    "\n",
    "To do that, this is To train (solve a NN) is commonly used the “Gradient Descent”, this is the partial derivatives of the Activation Function in respect of the Weights of the NN, this is the rate of change of them in respect to the error function e(w).\n",
    "\n",
    "When the error is decreasing it means the derivate is negative, Weights should Increase until the error is zero or almost zero.\n",
    "\n",
    "![image.png](img/Gradient_descent.png)"
   ]
  },
  {
   "cell_type": "markdown",
   "metadata": {},
   "source": [
    "## Better to use Bias to approximate any Curve!\n",
    "\n",
    "Weights change slope, When using bias or intercepts curves are shifting, Figure A change in slope, Figure B change in position\n",
    "\n",
    "![image.png](img/bias.png)"
   ]
  },
  {
   "cell_type": "markdown",
   "metadata": {
    "slideshow": {
     "slide_type": "slide"
    }
   },
   "source": [
    "## Cost Function Explained\n",
    "\n",
    "![image.png](img/Cost_function.png)"
   ]
  },
  {
   "cell_type": "markdown",
   "metadata": {
    "slideshow": {
     "slide_type": "slide"
    }
   },
   "source": [
    "__Universal Approximation Theorem__\n",
    "\n",
    "![image.png](img/NNandUniversalApproxTheorem.jpg)"
   ]
  },
  {
   "cell_type": "markdown",
   "metadata": {
    "slideshow": {
     "slide_type": "slide"
    }
   },
   "source": [
    "![image.png](img/LimitationsOfNN.jpg)"
   ]
  },
  {
   "cell_type": "markdown",
   "metadata": {
    "slideshow": {
     "slide_type": "slide"
    }
   },
   "source": [
    "![image.png](img/FittingVsOverfitting.jpg)\n",
    "\n",
    "If you train for too long, with not enough data, you will see the accuracy of your model start to get worse; this is called ___OVER FITTING___. From this the importance to create a validation set to measure the accuracy of the model and with a total amount of 20% of the whole dataset."
   ]
  },
  {
   "cell_type": "markdown",
   "metadata": {
    "slideshow": {
     "slide_type": "slide"
    }
   },
   "source": [
    "___Readings___\n",
    "\n",
    "https://towardsdatascience.com/neural-networks-and-the-universal-approximation-theorem-8a389a33d30a\n"
   ]
  }
 ],
 "metadata": {
  "celltoolbar": "Slideshow",
  "kernelspec": {
   "display_name": "Python 3",
   "language": "python",
   "name": "python3"
  },
  "language_info": {
   "codemirror_mode": {
    "name": "ipython",
    "version": 3
   },
   "file_extension": ".py",
   "mimetype": "text/x-python",
   "name": "python",
   "nbconvert_exporter": "python",
   "pygments_lexer": "ipython3",
   "version": "3.7.4"
  },
  "latex_envs": {
   "LaTeX_envs_menu_present": true,
   "autoclose": false,
   "autocomplete": true,
   "bibliofile": "biblio.bib",
   "cite_by": "apalike",
   "current_citInitial": 1,
   "eqLabelWithNumbers": true,
   "eqNumInitial": 1,
   "hotkeys": {
    "equation": "Ctrl-E",
    "itemize": "Ctrl-I"
   },
   "labels_anchors": false,
   "latex_user_defs": false,
   "report_style_numbering": false,
   "user_envs_cfg": false
  },
  "toc": {
   "base_numbering": 1,
   "nav_menu": {},
   "number_sections": false,
   "sideBar": true,
   "skip_h1_title": false,
   "title_cell": "Table of Contents",
   "title_sidebar": "Contents",
   "toc_cell": false,
   "toc_position": {
    "height": "calc(100% - 180px)",
    "left": "10px",
    "top": "150px",
    "width": "165px"
   },
   "toc_section_display": true,
   "toc_window_display": false
  },
  "varInspector": {
   "cols": {
    "lenName": 16,
    "lenType": 16,
    "lenVar": 40
   },
   "kernels_config": {
    "python": {
     "delete_cmd_postfix": "",
     "delete_cmd_prefix": "del ",
     "library": "var_list.py",
     "varRefreshCmd": "print(var_dic_list())"
    },
    "r": {
     "delete_cmd_postfix": ") ",
     "delete_cmd_prefix": "rm(",
     "library": "var_list.r",
     "varRefreshCmd": "cat(var_dic_list()) "
    }
   },
   "types_to_exclude": [
    "module",
    "function",
    "builtin_function_or_method",
    "instance",
    "_Feature"
   ],
   "window_display": false
  }
 },
 "nbformat": 4,
 "nbformat_minor": 4
}
